{
 "cells": [
  {
   "cell_type": "markdown",
   "metadata": {},
   "source": [
    "## 練習時間\n",
    "在小量的資料上，我們用眼睛就可以看得出來程式碼是否有跑出我們理想中的結果\n",
    "\n",
    "請嘗試想像一個你需要的資料結構 (裡面的值可以是隨機的)，然後用上述的方法把它變成 pandas DataFrame\n",
    "\n",
    "#### Ex: 想像一個 dataframe 有兩個欄位，一個是國家，一個是人口，求人口數最多的國家\n",
    "\n",
    "### Hints: [隨機產生數值](https://blog.csdn.net/christianashannon/article/details/78867204)"
   ]
  },
  {
   "cell_type": "code",
   "execution_count": 17,
   "metadata": {},
   "outputs": [],
   "source": [
    "import pandas as pd\n",
    "import numpy as np"
   ]
  },
  {
   "cell_type": "code",
   "execution_count": 20,
   "metadata": {},
   "outputs": [
    {
     "name": "stdout",
     "output_type": "stream",
     "text": [
      "[ 85448107 147156098 229861533 243517014]\n",
      "('JPN', 'TWN', 'USA', 'CAD')\n",
      "{'國家': ('JPN', 'TWN', 'USA', 'CAD'), '人口': array([168171787, 150041108,  90570132, 140196551])}\n",
      "    國家         人口\n",
      "0  JPN  168171787\n",
      "1  TWN  150041108\n",
      "2  USA   90570132\n",
      "3  CAD  140196551\n"
     ]
    }
   ],
   "source": [
    "nations = ('JPN','TWN','USA','CAD')\n",
    "populations = np.random.randint(23000000, high=300000000, size=4, dtype='l')\n",
    "print(population)\n",
    "print(nations)\n",
    "data = {'國家':  nations,\n",
    "        '人口': populations }\n",
    "print(data)\n",
    "data_frame1 = pd.DataFrame(data)\n",
    "print (data_frame1)"
   ]
  },
  {
   "cell_type": "code",
   "execution_count": null,
   "metadata": {
    "collapsed": true
   },
   "outputs": [],
   "source": []
  }
 ],
 "metadata": {
  "kernelspec": {
   "display_name": "Python 3",
   "language": "python",
   "name": "python3"
  },
  "language_info": {
   "codemirror_mode": {
    "name": "ipython",
    "version": 3
   },
   "file_extension": ".py",
   "mimetype": "text/x-python",
   "name": "python",
   "nbconvert_exporter": "python",
   "pygments_lexer": "ipython3",
   "version": "3.7.0"
  }
 },
 "nbformat": 4,
 "nbformat_minor": 2
}
